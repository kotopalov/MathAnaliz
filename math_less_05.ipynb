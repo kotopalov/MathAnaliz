{
  "nbformat": 4,
  "nbformat_minor": 0,
  "metadata": {
    "colab": {
      "name": "math_less_05.ipynb",
      "provenance": [],
      "collapsed_sections": []
    },
    "kernelspec": {
      "name": "python3",
      "display_name": "Python 3"
    },
    "language_info": {
      "name": "python"
    }
  },
  "cells": [
    {
      "cell_type": "markdown",
      "metadata": {
        "id": "tyXlC3H7f6WG"
      },
      "source": [
        "# Тема “Предел функции”"
      ]
    },
    {
      "cell_type": "markdown",
      "metadata": {
        "id": "vYnE6j3if-bN"
      },
      "source": [
        "## Найти предел:"
      ]
    },
    {
      "cell_type": "markdown",
      "metadata": {
        "id": "qqUnTxPagDNt"
      },
      "source": [
        "## a. \n",
        "## $$\\lim_{x\\to 0} \\frac{sin(2x)}{4x} \\to \\left(\\frac{0}{0}\\right) \\to \\lim_{x\\to 0} \\frac{sin(2x)}{2*2x} \\to \\frac{1}{2}$$\n",
        "\n",
        "мы привели к виду первого замечательнеого предела при х стремящемся к нулю это эквивалентно 1, остается 1/2"
      ]
    },
    {
      "cell_type": "markdown",
      "metadata": {
        "id": "FjmkSWRxhoyG"
      },
      "source": [
        "## b. $$\\lim_{x\\to 0} \\frac{x}{sin(x)} ⇒ (\\frac{0}{0}) ⇒ 1$$\n",
        "\n",
        "Свойство первого замечательного предела"
      ]
    },
    {
      "cell_type": "markdown",
      "metadata": {
        "id": "OlQ2_6TUtpqJ"
      },
      "source": [
        "## с. $$\\lim_{x\\to 0} \\frac{x}{arcsin(x)} ⇒ \\left(\\frac{0}{0}\\right)$$\n",
        "\n",
        "Используем эквивалентность \n",
        "## $$arcsin(f(x)) \\sim f(x)$$\n",
        "\n",
        "## $$\\lim_{x\\to 0} \\frac{x}{arcsin(x)} ⇒ \\left(\\frac{x}{x}\\right) ⇒ 1$$"
      ]
    },
    {
      "cell_type": "markdown",
      "metadata": {
        "id": "fEGdk2tjwbTO"
      },
      "source": [
        "## d. $$\\lim_{x\\to \\infty} \\left(\\frac{4x+3}{4x-3}\\right)^{6x} ⇒ \\left(\\frac{\\infty}{\\infty}\\right) $$\n",
        "## $$\\lim_{x\\to \\infty} \\left(\\frac{4x+3}{4x-3}\\right)^{6x} ⇒ \\lim_{x\\to \\infty} \\left(\\frac{4x-3+3+3}{4x-3}\\right)^{6x} ⇒ \\lim_{x\\to \\infty} \\left(1+\\frac{6}{4x-3}\\right)^{6x} ⇒$$\n",
        "\n",
        "## $$\\lim_{x\\to \\infty} \\left(1+\\frac{6}{4x-3}\\right)^{\\frac{4x-3}{6}\\frac{6}{4x-3}*6x} ⇒ e^{\\lim_{x\\to \\infty}\\frac{6}{4x-3}*6x} ⇒$$\n",
        "\n",
        "# $$e^{\\lim_{x\\to \\infty}\\frac{36x}{4x-3}} ⇒ e^{\\frac{36}{4}} ⇒  e^9$$"
      ]
    },
    {
      "cell_type": "markdown",
      "metadata": {
        "id": "aUjIzw9e33rR"
      },
      "source": [
        "# Тема “Понятие о производной”"
      ]
    },
    {
      "cell_type": "markdown",
      "metadata": {
        "id": "ANjMFENs343x"
      },
      "source": [
        "## Найти производную выражения:"
      ]
    },
    {
      "cell_type": "markdown",
      "metadata": {
        "id": "nf9kwoSF4J1M"
      },
      "source": [
        "## a. $$y = sin(x)* cos(x)$$\n",
        "## $$y' = (sin(x)* cos(x))' ⇒ sin'(x)*cos(x) + sin(x)*cos'(x) ⇒$$\n",
        "## $$cos(x)*cos(x) + sin(x)(-sin(x)) ⇒ cos(x)^2 - sin(x)^2$$"
      ]
    },
    {
      "cell_type": "markdown",
      "metadata": {
        "id": "gK9Hkb1z7cqn"
      },
      "source": [
        "## b.  $$y = ln(2x + 1)^3$$\n",
        "## $$y' = (ln(2x + 1)^3)' ⇒ (3ln|2x + 1|)' ⇒ 3*ln'|2x+1|⇒$$\n",
        "## $$3*\\log_e'|2x+1|⇒3*\\frac{1}{|2x+1|ln(e)}⇒\\frac{3}{|2x+1|}$$"
      ]
    },
    {
      "cell_type": "markdown",
      "metadata": {
        "id": "ocGCEA9c-LHK"
      },
      "source": [
        "## c. $$y=\\frac{x^4}{ln(x)}$$\n",
        "## $$y'=\\left(\\frac{x^4}{ln(x)}\\right)' ⇒ \\frac{(x^4)'*ln(x) - x^4*ln'(x)}{ln^2(x)} ⇒ \\frac{4x^3*ln(x) - x^4*\\frac{1}{x*ln(e)}}{ln^2(x)} ⇒ $$\n",
        "## $$\\frac{4x^3*ln(x) - x^4*\\frac{1}{x}}{ln^2(x)} ⇒ \\frac{4x^3*ln(x) - x^3}{ln^2(x)} ⇒ $$\n",
        "## $$\\frac{x^3(4ln(x) - 1)}{ln^2(x)}$$"
      ]
    }
  ]
}