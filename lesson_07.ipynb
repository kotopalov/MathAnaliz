{
  "nbformat": 4,
  "nbformat_minor": 0,
  "metadata": {
    "colab": {
      "name": "lesson_07.ipynb",
      "provenance": [],
      "collapsed_sections": []
    },
    "kernelspec": {
      "name": "python3",
      "display_name": "Python 3"
    },
    "language_info": {
      "name": "python"
    }
  },
  "cells": [
    {
      "cell_type": "markdown",
      "metadata": {
        "id": "j8DQEVfdj6dO"
      },
      "source": [
        "# 1. Найти длину 𝑥 и ширину 𝑦 прямоугольника при заданном периметре 𝑃=144 cм, при которых данный прямоугольник имеет наибольшую площадь 𝑆."
      ]
    },
    {
      "cell_type": "markdown",
      "metadata": {
        "id": "frramIoe4FBg"
      },
      "source": [
        "Определим формулы объема и площади\n",
        "\n",
        "$$S=x*y$$\n",
        "$$P=2(x+y)$$\n",
        "\n",
        "выразим $y$ через $x$ и $P$\n",
        "$$y+x=\\frac{P}{2} \\to y=\\frac{P}{2}-x$$\n",
        "подставим эту формулу в формулу площади\n",
        "$$S=x(\\frac{P}{2}-x) \\to \\frac{Px}{2}-x^2 $$\n",
        "\n",
        "найдем экстремум\n",
        "$$S'=(\\frac{Px}{2}-x^2)' \\to \\frac{P}{2}-2x$$\n",
        "$$f'(x)=0 \\to \\frac{P}{2}-2x=0 \\to 2x=\\frac{P}{2} \\to x = x=\\frac{P}{4}$$\n",
        "$$ x=\\frac{P}{4} \\to x=\\frac{144}{4}=36 $$\n",
        "проверим на экстремум\n",
        "$$ f'(30) = \\frac{144}{2}-2*(30) \\to 72-60=12>0$$\n",
        "$$ f'(40) = \\frac{144}{2}-2*(40) \\to 72-80=12<0$$\n",
        "это максимальный экстремум. теперь найдем значение $y$ и затем $S$\n",
        "$$y=\\frac{P}{2}-x \\to y=\\frac{144}{2}-36 \\to y=36$$\n",
        "$$S=x*y = 36*36 = 1296$$\n"
      ]
    },
    {
      "cell_type": "markdown",
      "metadata": {
        "id": "n93Qq-wQj_vZ"
      },
      "source": [
        "# 2. найти экстремумы функций (если они есть)"
      ]
    },
    {
      "cell_type": "markdown",
      "metadata": {
        "id": "wz1-fqeRkGZ6"
      },
      "source": [
        "## 2.1 $$y = |2x|$$\n",
        "## $$y' = |2x|' \\to \\frac{2x}{|x|} $$\n",
        "## $$f'(x)=0 \\to \\frac{2x}{|x|}=0 \\to 2x=0 \\to x=0$$\n",
        "проверяем знаки функции до и после нулевой точки\n",
        "## $$f(-1) \\to \\frac{2(-1)}{|-1|} \\to -2 $$\n",
        "## $$f(1) \\to \\frac{2*1}{|1|} \\to 2 $$\n",
        "мы имеем локальный min экстримум"
      ]
    },
    {
      "cell_type": "markdown",
      "metadata": {
        "id": "s4eMhrOckV1D"
      },
      "source": [
        "## 2.2 $$y=x^3$$\n",
        "## $$y' = (x^3)' \\to 3x^2$$\n",
        "## $$f'(x)=0 \\to 3*x^2=0 \\to x=0$$\n",
        "проверяем знаки функции до и после нулевой точки\n",
        "## $$f(-1) \\to 3*(-1)^2 \\to 3 $$\n",
        "## $$f(1) \\to 3*(1)^2 \\to 3 $$\n",
        "данная точка не экстремум"
      ]
    },
    {
      "cell_type": "markdown",
      "metadata": {
        "id": "hapYVmqlkeDz"
      },
      "source": [
        "## 2.3 $$y = e^{3x}$$\n",
        "(или то же самое, что еxp(3x))\n",
        "\n",
        "## $$y' = (e^{3x})' \\to e^{3x}*3$$\n",
        "## $$f'(x)=0 \\to e^{3x}*3=0 \\to x=3$$\n",
        "## $$f'(x)=0 \\to e^{3x}*3=0 $$\n",
        "для данной функции нет критической точки"
      ]
    },
    {
      "cell_type": "code",
      "metadata": {
        "colab": {
          "base_uri": "https://localhost:8080/",
          "height": 378
        },
        "id": "Zcws4O68v5jw",
        "outputId": "b5643bdb-1c55-4c60-8db5-0f684b07fda7"
      },
      "source": [
        "from matplotlib import pylab as plt\n",
        "import numpy as np\n",
        "%matplotlib inline\n",
        "\n",
        "import math\n",
        "\n",
        "plt.figure(figsize=(6,6))\n",
        "plt.axis([-5, 5, -1, 1])\n",
        "\n",
        "x=np.linspace(-5, 5, 400)\n",
        "y=[math.exp( 3*a ) for a in x]\n",
        "\n",
        "plt.plot(x,y, c='b')\n",
        "plt.show()"
      ],
      "execution_count": 8,
      "outputs": [
        {
          "output_type": "display_data",
          "data": {
            "image/png": "[encoded data removed]",
            "text/plain": [
              "<Figure size 432x432 with 1 Axes>"
            ]
          },
          "metadata": {
            "needs_background": "light"
          }
        }
      ]
    },
    {
      "cell_type": "markdown",
      "metadata": {
        "id": "EU3-J5Gxku_0"
      },
      "source": [
        "## 2.4 $$y=x^3-5x$$\n",
        "## $$y' = (x^3-5x)' \\to 3x^2-5$$\n",
        "## $$f'(x)=0 \\to 3x^2-5=0 \\to 3x^2=5 \\to x^2 = \\frac{5}{3}\\to x = \\pm\\sqrt{\\frac{5}{3}}$$\n",
        "проверяем знаки функции до, после и между нулевых точек\n",
        "## $$f(-2) \\to 3(-2)^2-5 \\to 7 $$\n",
        "## $$f(0) \\to 3(0)^2-5 \\to -5 $$\n",
        "## $$f(2) \\to 3(2)^2-5 \\to 7 $$\n",
        "мы имеем локальные max экстримумы"
      ]
    }
  ]
}