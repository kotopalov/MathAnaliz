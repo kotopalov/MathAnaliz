{
  "nbformat": 4,
  "nbformat_minor": 0,
  "metadata": {
    "colab": {
      "name": "lesson_06.ipynb",
      "provenance": [],
      "collapsed_sections": []
    },
    "kernelspec": {
      "name": "python3",
      "display_name": "Python 3"
    },
    "language_info": {
      "name": "python"
    }
  },
  "cells": [
    {
      "cell_type": "markdown",
      "metadata": {
        "id": "4pCq0q2pHBPH"
      },
      "source": [
        "# Тема 6 “Понятие о производной”"
      ]
    },
    {
      "cell_type": "markdown",
      "metadata": {
        "id": "R1BigN5nHEQK"
      },
      "source": [
        "## 1. Найти производную выражения:\n",
        "\n",
        "## $$\\sqrt{sin^2(ln(x^3))} \\Longrightarrow (sin^2(ln(x^3)))^\\frac{1}{2}$$\n",
        "\n",
        "## $$[(sin^2(ln(x^3)))^\\frac{1}{2}]' \\Longrightarrow \\frac{1}{2sin^2(ln(x^3))}sin^2(ln(x^3))*$$\n",
        "\n",
        "## $$2*sin(ln(x^3))*cos(ln(x^3))*\\frac{1}{x^3}*3x^2 \\Longrightarrow $$\n",
        "\n",
        "## $$\\frac{3sin(3ln(x))*cos(3ln(x))}{x}$$"
      ]
    },
    {
      "cell_type": "markdown",
      "metadata": {
        "id": "_Yq5laRvQQsJ"
      },
      "source": [
        "## 2. Найти выражение производной функции и ее значение в точке:\n",
        "## $$f(x)=cos(x^2+3x), x_0=0 $$\n",
        "## $$f'(x)=cos'(x^2+3x) \\Longrightarrow -sin(x^2+3x)*(2x+3) $$\n",
        "вычеслим ее значение\n",
        "## $$f'(x_0=\\sqrt{\\varPi})=-sin(\\varPi+3\\sqrt{\\varPi})*(2\\sqrt{\\varPi}+3)$$"
      ]
    },
    {
      "cell_type": "markdown",
      "metadata": {
        "id": "fTsiJgGZVz7v"
      },
      "source": [
        "## 4. Найти угол наклона касательной к графику функции в точке:\n",
        "## $$f(x)=\\sqrt{3x}*ln(x), x_0=1$$\n",
        "## $$f'(x)=\\sqrt{3x}*ln(x) \\Longrightarrow (\\sqrt{3x})'*ln(x) + \\sqrt{3x}*(ln(x))'\\Longrightarrow $$\n",
        "## $$-\\frac{ln(x)}{2\\sqrt{3x}} + \\frac{\\sqrt{3x}}{x} \\Longrightarrow -\\frac{ln(x)}{2\\sqrt{3x}}\\frac{\\sqrt{3x}}{\\sqrt{3x}} + \\frac{\\sqrt{3x}}{x}$$\n",
        "## $$\\frac{\\sqrt{3x}}{x}*(1-\\frac{ln(x)}{6})$$\n",
        "\n",
        "## $$f(x_0=1)=\\sqrt{3*1}*(1-\\frac{ln(1)}{6}) \\Longrightarrow \\sqrt{3} $$\n",
        "\n",
        "Угол наклона \n",
        "## $$tg(\\sqrt{3})=60^o$$"
      ]
    }
  ]
}