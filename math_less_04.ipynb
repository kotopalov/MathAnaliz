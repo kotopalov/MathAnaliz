{
  "nbformat": 4,
  "nbformat_minor": 0,
  "metadata": {
    "colab": {
      "name": "math_less_4.ipynb",
      "provenance": [],
      "collapsed_sections": []
    },
    "kernelspec": {
      "name": "python3",
      "display_name": "Python 3"
    },
    "language_info": {
      "name": "python"
    }
  },
  "cells": [
    {
      "cell_type": "markdown",
      "metadata": {
        "id": "lNhN8KMw0o0W"
      },
      "source": [
        "# Тема “Предел функции”"
      ]
    },
    {
      "cell_type": "markdown",
      "metadata": {
        "id": "DhyLJPHh0sqE"
      },
      "source": [
        "## 1. Предложить пример функции, не имеющей предела в нуле и в бесконечностях."
      ]
    },
    {
      "cell_type": "markdown",
      "metadata": {
        "id": "eUBq_pDZDvEv"
      },
      "source": [
        "Мне кажется самая простая функция удовлетворяющая данное требование это y = sgn(x). у нее 2 предела [-1, 1]"
      ]
    },
    {
      "cell_type": "code",
      "metadata": {
        "id": "qingqHK5EQuY"
      },
      "source": [
        "from matplotlib import pylab as plt\n",
        "import numpy as np\n",
        "%matplotlib inline\n",
        "\n",
        "plt.figure(figsize=(6,6))\n",
        "plt.axis([-5, 5, -3, 3])\n",
        "\n",
        "x=np.linspace(-5, 5, 400)\n",
        "y=np.sign(x)\n",
        "\n",
        "plt.plot(x,y, c='b')\n",
        "plt.show()"
      ],
      "execution_count": null,
      "outputs": []
    },
    {
      "cell_type": "markdown",
      "metadata": {
        "id": "BwVg80jr1oVX"
      },
      "source": [
        "## 2. Привести пример функции, не имеющей предела в точке, но определенной в ней."
      ]
    },
    {
      "cell_type": "markdown",
      "metadata": {
        "id": "wpx5H2ZQFZ86"
      },
      "source": [
        "В данном вопросе так же можно привести функцию sgn(x). Точка 0 не является пределом, но график функции проходит через эту точку."
      ]
    },
    {
      "cell_type": "markdown",
      "metadata": {
        "id": "HuZhBI1L1sp4"
      },
      "source": [
        "## 3. Исследовать функцию $f(x) = x^3 - x^2$ по плану:"
      ]
    },
    {
      "cell_type": "code",
      "metadata": {
        "id": "uAtv4HtgHTre"
      },
      "source": [
        "from matplotlib import pylab as plt\n",
        "import numpy as np\n",
        "%matplotlib inline\n",
        "\n",
        "plt.figure(figsize=(6,6))\n",
        "plt.axis([-5, 5, -50, 50])\n",
        "\n",
        "x=np.linspace(-50, 50, 400)\n",
        "y=x**3 - x**2\n",
        "\n",
        "plt.plot(x,y, c='b')\n",
        "plt.show()"
      ],
      "execution_count": null,
      "outputs": []
    },
    {
      "cell_type": "markdown",
      "metadata": {
        "id": "bTi1_EjrGQ0U"
      },
      "source": [
        "### 3.1. Область задания и область значений.\n",
        "\n",
        "Область задания - это вся числовая прямая (без исключений) по оси X\n",
        "Область значений - это вся числовая прямая (без исключений) по оси Y"
      ]
    },
    {
      "cell_type": "markdown",
      "metadata": {
        "id": "OwgwqWRvIwwL"
      },
      "source": [
        "### 3.2. Нули функции и их кратность.\n",
        "\n",
        "Найдем нули функций\n",
        "\n",
        "x^3−x^2=0 => x^2*(x-1)=0 => x^2=0$ нули (-1,1); x-1=0 ноль (1)\n",
        "\n",
        "Ответ x1=-1 корень кратности 1, x2=1 корень кратности 2"
      ]
    },
    {
      "cell_type": "markdown",
      "metadata": {
        "id": "dR4n_xGhLl-v"
      },
      "source": [
        "### 3.3. Отрезки знакопостоянства.\n",
        "Зная корни функций найдем отрезки знакопостоянства\n",
        "\n",
        "1. $f(x)<-1$\n",
        "2. $-1<f(x)<1 $\n",
        "3. $f(x)>1$"
      ]
    },
    {
      "cell_type": "markdown",
      "metadata": {
        "id": "i27hZrWSNHlY"
      },
      "source": [
        "### 3.4. Четность функции.\n"
      ]
    },
    {
      "cell_type": "code",
      "metadata": {
        "id": "RrIcRL3MNdsY"
      },
      "source": [
        "from matplotlib import pylab as plt\n",
        "import numpy as np\n",
        "%matplotlib inline\n",
        "\n",
        "plt.figure(figsize=(6,6))\n",
        "plt.axis([-2, 2, -2, 2])\n",
        "\n",
        "x=np.linspace(-2, 2, 200)\n",
        "y=x**3 - x**2\n",
        "\n",
        "plt.plot(x,y, c='b')\n",
        "plt.show()"
      ],
      "execution_count": null,
      "outputs": []
    },
    {
      "cell_type": "markdown",
      "metadata": {
        "id": "ss8ydJuwNvDU"
      },
      "source": [
        "На графике четко видно, что функция не является четной и могла бы быть нечетной, но на отрезке 0<x<1 функция не может быть нечетной, а значит и сама функция не нечетная\n",
        "\n",
        "Ответ: функция общего вида"
      ]
    },
    {
      "cell_type": "markdown",
      "metadata": {
        "id": "S5ufsBbuPoF1"
      },
      "source": [
        "### 3.5. Ограниченность.\n",
        "\n",
        "Даннай функция не является ограниченной"
      ]
    },
    {
      "cell_type": "markdown",
      "metadata": {
        "id": "bzL8l-GtQMT1"
      },
      "source": [
        "### 3.6. Периодичность.\n",
        "\n",
        "Функция не является периодичной"
      ]
    },
    {
      "cell_type": "markdown",
      "metadata": {
        "id": "vepu-9cdQjZO"
      },
      "source": [
        "## 4. Найти предел:\n",
        "\n",
        "## $$\\lim_{x\\to 0} \\frac{3x^3-2x^2}{4x^2}$$\n",
        "\n",
        "$$\\lim_{x\\to 0} \\frac{3x^3-2x^2}{4x^2} => \\lim_{x\\to 0} \\frac{2x^2(1.5x-1)}{2*2x^2} => \\lim_{x\\to 0} \\frac{1.5x-1}{2} => - \\frac{1}{2}$$"
      ]
    }
  ]
}